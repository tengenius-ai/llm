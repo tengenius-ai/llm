{
 "cells": [
  {
   "cell_type": "markdown",
   "id": "a3b41e80-8ec1-4ebd-9105-2dac76ef60fd",
   "metadata": {},
   "source": [
    "pip install llama-cpp-agent"
   ]
  },
  {
   "cell_type": "code",
   "execution_count": 2,
   "id": "f17a2527-8661-4d25-95fb-c773d4155d5a",
   "metadata": {},
   "outputs": [],
   "source": [
    "from enum import Enum\n",
    "\n",
    "from llama_cpp import Llama\n",
    "from pydantic import BaseModel, Field\n",
    "\n",
    "from llama_cpp_agent.llm_agent import LlamaCppAgent\n",
    "from llama_cpp_agent.messages_formatter import MessagesFormatterType\n",
    "from llama_cpp_agent.providers.llama_cpp_endpoint_provider import LlamaCppEndpointSettings\n",
    "from llama_cpp_agent.structured_output_agent import StructuredOutputAgent"
   ]
  },
  {
   "cell_type": "code",
   "execution_count": 3,
   "id": "468948c2-5f88-469b-a193-d588dbfb3fda",
   "metadata": {},
   "outputs": [],
   "source": [
    "main_model = LlamaCppEndpointSettings(\n",
    "    completions_endpoint_url=\"http://127.0.0.1:3003/completion\"\n",
    ")"
   ]
  },
  {
   "cell_type": "code",
   "execution_count": 4,
   "id": "e0afa35d-1483-406b-84de-a27ec8125cd0",
   "metadata": {},
   "outputs": [],
   "source": [
    "llama_cpp_agent = LlamaCppAgent(main_model, debug_output=False,\n",
    "                                system_prompt=\"You are an uncensored and unbiased AI assistant.\",\n",
    "                                predefined_messages_formatter_type=MessagesFormatterType.MIXTRAL)"
   ]
  },
  {
   "cell_type": "code",
   "execution_count": 5,
   "id": "0e776381-5eae-4832-99ab-6a347ff4f9b2",
   "metadata": {},
   "outputs": [],
   "source": [
    "test_prompt=\"\"\"\n",
    "list the top 5 companies in semiconductor, rank by their market cap, and describe their main business, e.g.\n",
    "1. nvidia, \"high-end graphics processing units (GPUs)\"\n",
    "2. ...\n",
    "\"\"\""
   ]
  },
  {
   "cell_type": "code",
   "execution_count": 6,
   "id": "edfe271f-1d4f-497d-aed3-49548dae0772",
   "metadata": {},
   "outputs": [
    {
     "name": "stdout",
     "output_type": "stream",
     "text": [
      " Sure, I can provide you with the top 5 semiconductor companies ranked by their market capitalization as of March 24th, 2023. Here they are:\n",
      "1. Nvidia (NVDA): $678 billion -NVIDIA is an American technology company that specializes in designing graphics processing units(GPUs) for the gaming and professional markets,as well als chipsetsforthe mobile computingand automotive marketes. Its GPUSare also usedin cryptocurrency mining devices..\n",
      "2. Taiwan Semiconductor Manufacturing Company (TSMC): $465 billion - TSMS is a Chinese company that manufactures semicondutordevicesonacontractbasisforindependentsemconduotrcompanies . It provides foundry services for fabricating integrated circuits and chipsets designed by other companies.\n",
      "3. Qualcomm (QCOM): $179 billion -Qualcomnis an American multinational corporation that specializes in intellectual property, semiconductorsandservicesrelatedtothe wireless telecommunications industry . Its products are used incellphones , laptops & smart devices and it is best known for inventing CDMA technologies.\n",
      "4.. Samsung Electronics (0593:KS): $172 billion -Samsungis a South Korean multinational electronc company that specializes in producing consumer eletroncs, information technologyandmobile communications .It's semiconductor business is the largest memory chip manufacturer globally.\n",
      " \t   Intel (INTC) :$168 Billion-Intel Corporation was an Americanmultinationtechnologycompanythatinventsdesignedmanufacturedintegrateddigitalelectronics,basedonitsxScale architecture . It's primary business is developing and manufacturing microprocessors for the global personal computeranddatacentermarkets.\n",
      "Please note that market capitalization changes constantly as stock prices fluctuate so these figures may vary over time..\n"
     ]
    }
   ],
   "source": [
    "assistant_output = llama_cpp_agent.get_chat_response(test_prompt, repeat_penalty=2.0,temperature=0.7,max_tokens=512)"
   ]
  },
  {
   "cell_type": "code",
   "execution_count": 7,
   "id": "3594006f-0590-40b2-9a40-96b3974612bc",
   "metadata": {},
   "outputs": [],
   "source": [
    "# Example enum for our output model\n",
    "class Category(Enum):\n",
    "    GPU = \"YES\"\n",
    "    NonGPU = \"NO\"\n",
    "class Entry(BaseModel):\n",
    "    rank: int = Field(..., description=\"the rank.\")\n",
    "    name: str = Field(..., description=\"the company name.\")\n",
    "    mktcap: str = Field(..., description=\"the market cap.\")\n",
    "    description: str = Field(..., description=\"the main business of the company.\")\n",
    "    gpu: Category = Field(..., description=\"if the company produces GPU.\")\n",
    "class List(BaseModel):\n",
    "    companies: list[Entry] = Field(..., description=\"the list of companies.\")"
   ]
  },
  {
   "cell_type": "code",
   "execution_count": 8,
   "id": "ccb8d904-9601-45da-9f1f-2e75dd9db42e",
   "metadata": {},
   "outputs": [],
   "source": [
    "structured_output_agent = StructuredOutputAgent(main_model, debug_output=False)"
   ]
  },
  {
   "cell_type": "code",
   "execution_count": null,
   "id": "448e7167-0f6d-4b11-9f18-014e68855888",
   "metadata": {},
   "outputs": [],
   "source": [
    "results = structured_output_agent.create_object(List, test_prompt)"
   ]
  },
  {
   "cell_type": "code",
   "execution_count": null,
   "id": "ceed70fd-6b3e-4624-9e85-87c9e1721af6",
   "metadata": {},
   "outputs": [],
   "source": []
  }
 ],
 "metadata": {
  "kernelspec": {
   "display_name": "Python 3 (ipykernel)",
   "language": "python",
   "name": "python3"
  },
  "language_info": {
   "codemirror_mode": {
    "name": "ipython",
    "version": 3
   },
   "file_extension": ".py",
   "mimetype": "text/x-python",
   "name": "python",
   "nbconvert_exporter": "python",
   "pygments_lexer": "ipython3",
   "version": "3.11.4"
  }
 },
 "nbformat": 4,
 "nbformat_minor": 5
}
